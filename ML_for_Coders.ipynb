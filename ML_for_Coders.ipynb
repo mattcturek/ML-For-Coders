{
  "nbformat": 4,
  "nbformat_minor": 0,
  "metadata": {
    "colab": {
      "provenance": [],
      "toc_visible": true
    },
    "kernelspec": {
      "name": "python3",
      "display_name": "Python 3"
    },
    "language_info": {
      "name": "python"
    }
  },
  "cells": [
    {
      "cell_type": "markdown",
      "source": [
        "## Single Nuron Neural Network as a \"Hello World!\" application."
      ],
      "metadata": {
        "id": "9rma4l26osKL"
      }
    },
    {
      "cell_type": "markdown",
      "source": [
        "Verify the TensorFlow Version"
      ],
      "metadata": {
        "id": "1AEC5akHo1Z4"
      }
    },
    {
      "cell_type": "code",
      "execution_count": 1,
      "metadata": {
        "colab": {
          "base_uri": "https://localhost:8080/"
        },
        "id": "6Rq-s_k2nudQ",
        "outputId": "1bed7eef-87be-4b05-d56e-472b7ce1040d"
      },
      "outputs": [
        {
          "output_type": "stream",
          "name": "stdout",
          "text": [
            "2.13.0\n"
          ]
        }
      ],
      "source": [
        "import tensorflow as tf;\n",
        "print(tf.__version__)"
      ]
    },
    {
      "cell_type": "markdown",
      "source": [
        "Building a Neural Netowrk using TensorFlow and Keras APIs"
      ],
      "metadata": {
        "id": "gSr-EFR7o937"
      }
    },
    {
      "cell_type": "code",
      "source": [
        "from keras.src.engine.training import optimizer\n",
        "import tensorflow as tf\n",
        "import numpy as np\n",
        "from tensorflow.keras import Sequential\n",
        "from tensorflow.keras.layers import Dense\n",
        "\n",
        "model = Sequential([Dense(units=1, input_shape=[1])])\n",
        "model.compile(optimizer='sgd', loss='mean_squared_error')\n",
        "\n",
        "xs = np.array([-1.0, 0.0, 1.0, 2.0, 3.0, 4.0], dtype=float)\n",
        "ys = np.array([-3.0, -1.0, 1.0, 3.0, 5.0, 7.0], dtype=float)\n",
        "\n",
        "model.fit(xs, ys, epochs=500)\n",
        "\n",
        "print(model.predict([10.0]))"
      ],
      "metadata": {
        "id": "TGnUTIIWpLim"
      },
      "execution_count": null,
      "outputs": []
    },
    {
      "cell_type": "markdown",
      "source": [
        "The same code with it showing the weights and loss."
      ],
      "metadata": {
        "id": "5RV3xq1GrGdT"
      }
    },
    {
      "cell_type": "code",
      "source": [
        "from keras.src.utils.data_utils import SequenceEnqueuer\n",
        "from keras.src.engine.training import optimizer\n",
        "\n",
        "import tensorflow as tf\n",
        "import numpy as np\n",
        "from tensorflow.keras import Sequential\n",
        "from tensorflow.keras.layers import Dense\n",
        "\n",
        "l0 = Dense(units=1, input_shape=[1])\n",
        "model = Sequential([l0])\n",
        "model.compile(optimizer='sgd', loss='mean_squared_error')\n",
        "\n",
        "xs = np.array([-1.0, 0.0, 1.0, 2.0, 3.0, 4.0], dtype=float)\n",
        "ys = np.array([-3.0, -1.0, 1.0, 3.0, 5.0, 7.0], dtype=float)\n",
        "\n",
        "model.fit(xs, ys, epochs=500)\n",
        "\n",
        "print(model.predict([10.0]))\n",
        "print(\"Here is what I learned: {}\".format(l0.get_weights()))"
      ],
      "metadata": {
        "id": "q7tbj3cMrOkR"
      },
      "execution_count": null,
      "outputs": []
    },
    {
      "cell_type": "markdown",
      "source": [
        "After running this code, it will you what it thinks the X is, and then what it thinks the relationship of Y to X."
      ],
      "metadata": {
        "id": "vUM34tZWvpwq"
      }
    },
    {
      "cell_type": "markdown",
      "source": [
        "## Chapter 2\n",
        "### Computer Vision"
      ],
      "metadata": {
        "id": "HyLPnEWXwQh_"
      }
    },
    {
      "cell_type": "markdown",
      "source": [
        "In this tutorial, we will make a neural network that will look at an image of a piece of clothing, then categorize it and try to guess the correct category."
      ],
      "metadata": {
        "id": "SfSAc_v3wcnh"
      }
    },
    {
      "cell_type": "markdown",
      "source": [
        "#### Neurons for Vision\n",
        "\n",
        "In Chapter 1, you saw a very simple secenario where a machine was given a set of X and Y values, and it learned that the relationship between was Y=2X-1. This was done using a very simple neural network with one layer and one neuron.  \n",
        "\n",
        "In this example we are uisng Fashion-MNIST dataset that comes with Keras. It is a set of images of clothing to train the model on. Each of our images is a set of 784 values (28 x 28) between 0 and 255. They can be our X.\n",
        "\n",
        "We know that we have 10 different types of images in our dataset, so let's consider them to be our Y. Now we want to learn what the function looks like where Y is a function of X.\n",
        "\n",
        "Below is the code for the model including the dataset."
      ],
      "metadata": {
        "id": "B0cyAH7Fx5A3"
      }
    },
    {
      "cell_type": "code",
      "source": [
        "import tensorflow as tf\n",
        "data = tf.keras.datasets.fashion_mnist\n",
        "\n",
        "(training_images, training_labels), (test_images, test_labels) = data.load_data()\n",
        "\n",
        "training_images = training_images / 255.0\n",
        "test_images = test_images / 255.0\n",
        "\n",
        "model = tf.keras.models.Sequential([\n",
        "    tf.keras.layers.Flatten(input_shape=(28, 28)),\n",
        "    tf.keras.layers.Dense(128, activation=tf.nn.relu),\n",
        "    tf.keras.layers.Dense(10, activation=tf.nn.softmax)\n",
        "])\n",
        "\n",
        "model.compile(optimizer='adam', loss='sparse_categorical_crossentropy', metrics=['accuracy'])\n",
        "\n",
        "model.fit(training_images, training_labels, epochs=25)\n",
        "#model.evaluate(test_images, test_labels)\n",
        "\n",
        "classifications = model.predict(test_images)\n",
        "print(classifications[9])\n",
        "print(test_labels[9])"
      ],
      "metadata": {
        "colab": {
          "base_uri": "https://localhost:8080/"
        },
        "id": "e9SD6iMfzDk_",
        "outputId": "cacd86ca-894d-4e47-fb58-412945d9ac97"
      },
      "execution_count": 24,
      "outputs": [
        {
          "output_type": "stream",
          "name": "stdout",
          "text": [
            "Epoch 1/25\n",
            "1875/1875 [==============================] - 10s 5ms/step - loss: 0.5001 - accuracy: 0.8239\n",
            "Epoch 2/25\n",
            "1875/1875 [==============================] - 10s 5ms/step - loss: 0.3813 - accuracy: 0.8641\n",
            "Epoch 3/25\n",
            "1875/1875 [==============================] - 8s 4ms/step - loss: 0.3404 - accuracy: 0.8771\n",
            "Epoch 4/25\n",
            "1875/1875 [==============================] - 9s 5ms/step - loss: 0.3169 - accuracy: 0.8825\n",
            "Epoch 5/25\n",
            "1875/1875 [==============================] - 9s 5ms/step - loss: 0.2964 - accuracy: 0.8916\n",
            "Epoch 6/25\n",
            "1875/1875 [==============================] - 8s 4ms/step - loss: 0.2820 - accuracy: 0.8968\n",
            "Epoch 7/25\n",
            "1875/1875 [==============================] - 10s 5ms/step - loss: 0.2683 - accuracy: 0.8992\n",
            "Epoch 8/25\n",
            "1875/1875 [==============================] - 11s 6ms/step - loss: 0.2564 - accuracy: 0.9044\n",
            "Epoch 9/25\n",
            "1875/1875 [==============================] - 10s 6ms/step - loss: 0.2478 - accuracy: 0.9079\n",
            "Epoch 10/25\n",
            "1875/1875 [==============================] - 8s 4ms/step - loss: 0.2413 - accuracy: 0.9094\n",
            "Epoch 11/25\n",
            "1875/1875 [==============================] - 10s 5ms/step - loss: 0.2318 - accuracy: 0.9130\n",
            "Epoch 12/25\n",
            "1875/1875 [==============================] - 10s 5ms/step - loss: 0.2235 - accuracy: 0.9161\n",
            "Epoch 13/25\n",
            "1875/1875 [==============================] - 8s 4ms/step - loss: 0.2192 - accuracy: 0.9181\n",
            "Epoch 14/25\n",
            "1875/1875 [==============================] - 10s 5ms/step - loss: 0.2112 - accuracy: 0.9209\n",
            "Epoch 15/25\n",
            "1875/1875 [==============================] - 10s 5ms/step - loss: 0.2059 - accuracy: 0.9232\n",
            "Epoch 16/25\n",
            "1875/1875 [==============================] - 8s 4ms/step - loss: 0.1994 - accuracy: 0.9257\n",
            "Epoch 17/25\n",
            "1875/1875 [==============================] - 9s 5ms/step - loss: 0.1949 - accuracy: 0.9265\n",
            "Epoch 18/25\n",
            "1875/1875 [==============================] - 9s 5ms/step - loss: 0.1890 - accuracy: 0.9298\n",
            "Epoch 19/25\n",
            "1875/1875 [==============================] - 8s 4ms/step - loss: 0.1840 - accuracy: 0.9307\n",
            "Epoch 20/25\n",
            "1875/1875 [==============================] - 9s 5ms/step - loss: 0.1781 - accuracy: 0.9338\n",
            "Epoch 21/25\n",
            "1875/1875 [==============================] - 9s 5ms/step - loss: 0.1737 - accuracy: 0.9349\n",
            "Epoch 22/25\n",
            "1875/1875 [==============================] - 9s 5ms/step - loss: 0.1716 - accuracy: 0.9354\n",
            "Epoch 23/25\n",
            "1875/1875 [==============================] - 9s 5ms/step - loss: 0.1666 - accuracy: 0.9366\n",
            "Epoch 24/25\n",
            "1875/1875 [==============================] - 9s 5ms/step - loss: 0.1638 - accuracy: 0.9387\n",
            "Epoch 25/25\n",
            "1875/1875 [==============================] - 9s 5ms/step - loss: 0.1592 - accuracy: 0.9406\n",
            "313/313 [==============================] - 1s 2ms/step\n",
            "[5.4963745e-10 6.2336589e-15 3.0571319e-15 4.5623907e-19 2.0812896e-12\n",
            " 4.0124402e-09 1.1710286e-15 9.9999982e-01 1.1327513e-10 1.0316667e-07]\n",
            "7\n"
          ]
        }
      ]
    },
    {
      "cell_type": "markdown",
      "source": [
        "Here we can pick and choose which image in the test-images array to run through the neural network by using the\n",
        "\n",
        "```\n",
        "classifications = model.predict(test_images)  - loads the test images into the model.predict function\n",
        "print(classifications['array-number']) - prints the softmax 10 neuron weights\n",
        "print(test_label['matching-array-nunber']) - actual classification number\n",
        "```\n",
        "\n"
      ],
      "metadata": {
        "id": "rsr9LTK6_asg"
      }
    },
    {
      "cell_type": "markdown",
      "source": [
        "code.\n",
        "\n",
        "The number in both array values must be the same to choose the same test image vs the same fashion category (0-9)."
      ],
      "metadata": {
        "id": "Jt5q85XVAfqQ"
      }
    },
    {
      "cell_type": "code",
      "source": [
        "classifications = model.predict(test_images)\n",
        "print(classifications[0])\n",
        "print(test_labels[0])"
      ],
      "metadata": {
        "id": "OHpM6NJEAG0S"
      },
      "execution_count": null,
      "outputs": []
    },
    {
      "cell_type": "markdown",
      "source": [
        "Play with the values of the classifications array and the test_labels array to discover different chances the neural network had a chance to guess the clothing type. You can see the weights of all 10 final neurons and then the actual type number (0-9).\n",
        "\n",
        "You can see how accurate it is based off the number of times you train the network in the section above."
      ],
      "metadata": {
        "id": "szJ2RYYuBOMX"
      }
    }
  ]
}